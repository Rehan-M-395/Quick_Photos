{
 "cells": [
  {
   "cell_type": "code",
   "execution_count": 1,
   "id": "1ef1c6e2-49bd-4987-848f-349ad2495bcf",
   "metadata": {},
   "outputs": [
    {
     "name": "stdin",
     "output_type": "stream",
     "text": [
      "Enter student name (or type 'done' to finish):  sfd\n"
     ]
    },
    {
     "name": "stdout",
     "output_type": "stream",
     "text": [
      "\n",
      "📸 Collecting photos for sfd.\n",
      "Press 'c' to capture, 'q' to stop for this student.\n",
      "✅ Saved: students_dataset\\sfd\\sfd_0.jpg\n"
     ]
    },
    {
     "name": "stdin",
     "output_type": "stream",
     "text": [
      "➡️ Please change your angle/pose, then press ENTER to continue... \n"
     ]
    },
    {
     "name": "stdout",
     "output_type": "stream",
     "text": [
      "✅ Saved: students_dataset\\sfd\\sfd_1.jpg\n"
     ]
    },
    {
     "name": "stdin",
     "output_type": "stream",
     "text": [
      "➡️ Please change your angle/pose, then press ENTER to continue... \n"
     ]
    },
    {
     "name": "stdout",
     "output_type": "stream",
     "text": [
      "✅ Saved: students_dataset\\sfd\\sfd_2.jpg\n"
     ]
    },
    {
     "name": "stdin",
     "output_type": "stream",
     "text": [
      "➡️ Please change your angle/pose, then press ENTER to continue... \n"
     ]
    },
    {
     "name": "stdout",
     "output_type": "stream",
     "text": [
      "✅ Finished collecting photos for sfd.\n"
     ]
    },
    {
     "name": "stdin",
     "output_type": "stream",
     "text": [
      "Enter student name (or type 'done' to finish):  done\n"
     ]
    },
    {
     "name": "stdout",
     "output_type": "stream",
     "text": [
      "✅ Finished collecting photos.\n"
     ]
    }
   ],
   "source": [
    "import cv2\n",
    "import os\n",
    "\n",
    "def collect_student_photos():\n",
    "    dataset_dir = \"students_dataset\"\n",
    "    os.makedirs(dataset_dir, exist_ok=True)\n",
    "\n",
    "    while True:\n",
    "        student_name = input(\"Enter student name (or type 'done' to finish): \").strip()\n",
    "        if student_name.lower() == \"done\":\n",
    "            print(\"✅ Finished collecting photos.\")\n",
    "            break\n",
    "\n",
    "        # Create directory for this student\n",
    "        student_dir = os.path.join(dataset_dir, student_name)\n",
    "        os.makedirs(student_dir, exist_ok=True)\n",
    "\n",
    "        cap = cv2.VideoCapture(0)\n",
    "        count = 0\n",
    "\n",
    "        print(f\"\\n📸 Collecting photos for {student_name}.\")\n",
    "        print(\"Press 'c' to capture, 'q' to stop for this student.\")\n",
    "\n",
    "        while True:\n",
    "            ret, frame = cap.read()\n",
    "            if not ret:\n",
    "                print(\"❌ Failed to grab frame.\")\n",
    "                break\n",
    "\n",
    "            cv2.imshow(f\"Collecting Photos - {student_name}\", frame)\n",
    "\n",
    "            key = cv2.waitKey(1) & 0xFF\n",
    "            if key == ord('c'):  # capture photo\n",
    "                img_name = os.path.join(student_dir, f\"{student_name}_{count}.jpg\")\n",
    "                cv2.imwrite(img_name, frame)\n",
    "                print(f\"✅ Saved: {img_name}\")\n",
    "                count += 1\n",
    "\n",
    "                # Ask user to change pose\n",
    "                input(\"➡️ Please change your angle/pose, then press ENTER to continue...\")\n",
    "\n",
    "            elif key == ord('q'):  # quit this student\n",
    "                print(f\"✅ Finished collecting photos for {student_name}.\")\n",
    "                break\n",
    "\n",
    "        cap.release()\n",
    "        cv2.destroyAllWindows()\n",
    "\n",
    "if __name__ == \"__main__\":\n",
    "    collect_student_photos()\n"
   ]
  }
 ],
 "metadata": {
  "kernelspec": {
   "display_name": "Python [conda env:base] *",
   "language": "python",
   "name": "conda-base-py"
  },
  "language_info": {
   "codemirror_mode": {
    "name": "ipython",
    "version": 3
   },
   "file_extension": ".py",
   "mimetype": "text/x-python",
   "name": "python",
   "nbconvert_exporter": "python",
   "pygments_lexer": "ipython3",
   "version": "3.13.5"
  }
 },
 "nbformat": 4,
 "nbformat_minor": 5
}
